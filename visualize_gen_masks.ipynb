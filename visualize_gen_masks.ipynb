{
 "cells": [
  {
   "cell_type": "code",
   "execution_count": 28,
   "metadata": {},
   "outputs": [],
   "source": [
    "import json\n",
    "import cv2\n",
    "import matplotlib as plt\n",
    "import os\n",
    "import pandas as pd"
   ]
  },
  {
   "cell_type": "code",
   "execution_count": 29,
   "metadata": {},
   "outputs": [
    {
     "name": "stdout",
     "output_type": "stream",
     "text": [
      "['/Users/kerim/dev/stride120_vit_h/camera_004000.json', '/Users/kerim/dev/stride120_vit_h/camera_004001.json', '/Users/kerim/dev/stride120_vit_h/camera_004002.json']\n"
     ]
    }
   ],
   "source": [
    "dir_path = '/Users/kerim/dev/stride120_vit_h'\n",
    "files_in_dir = os.listdir(dir_path)\n",
    "camera_paths = []\n",
    "for file in files_in_dir:\n",
    "    if file.startswith('camera_'):\n",
    "        camera_paths.append(file)\n",
    "\n",
    "for i,file in enumerate(camera_paths):\n",
    "    camera_paths[i] = dir_path + '/' + file\n",
    "camera_paths.sort()\n",
    "print(camera_paths)\n"
   ]
  },
  {
   "cell_type": "code",
   "execution_count": 30,
   "metadata": {},
   "outputs": [],
   "source": [
    "camera_dicts = []\n",
    "for dict_path in camera_paths:        \n",
    "    f = open(dict_path)\n",
    "    camera_dicts.append(json.load(f))\n",
    "    f.close()\n"
   ]
  },
  {
   "cell_type": "code",
   "execution_count": 53,
   "metadata": {},
   "outputs": [
    {
     "name": "stdout",
     "output_type": "stream",
     "text": [
      "Empty DataFrame\n",
      "Columns: [file_name, iou]\n",
      "Index: []\n"
     ]
    }
   ],
   "source": [
    "df = pd.DataFrame(columns = ['file_name', 'iou'])\n",
    "print(df)"
   ]
  },
  {
   "cell_type": "code",
   "execution_count": 54,
   "metadata": {},
   "outputs": [
    {
     "name": "stdout",
     "output_type": "stream",
     "text": [
      "0.029462460041174088\n",
      "196\n",
      "375\n"
     ]
    }
   ],
   "source": [
    "avg_iou = 0.0\n",
    "counter = 0\n",
    "object_found = []\n",
    "for cam_dict in camera_dicts:\n",
    "    for imageId in cam_dict:\n",
    "        counter += 1\n",
    "        for maskId in cam_dict[imageId]:\n",
    "            curr_dict = cam_dict[imageId][maskId]\n",
    "            df.loc[counter] = [curr_dict['file_name'], curr_dict['iou']]\n",
    "            avg_iou += curr_dict['iou']\n",
    "            if curr_dict['iou'] > 0:\n",
    "                object_found.append(curr_dict['file_name'])\n",
    "avg_iou = avg_iou / counter\n",
    "print(avg_iou)\n",
    "print(len(object_found))\n",
    "print(counter)\n",
    "\n",
    "# values for vit_l\n",
    "# avg_iou = 0.027331489392771337\n",
    "# segmentations 'found' = 205\n",
    "# images = 375\n",
    "\n",
    "# values for vit_h\n",
    "# avg_iou = 0.029462460041174088\n",
    "# segmentations 'found' = 196\n",
    "# images = 375\n"
   ]
  },
  {
   "cell_type": "code",
   "execution_count": 57,
   "metadata": {},
   "outputs": [
    {
     "name": "stdout",
     "output_type": "stream",
     "text": [
      "                      file_name       iou\n",
      "17   test/004000/rgb/002383.png  0.692961\n",
      "10   test/004000/rgb/001336.png  0.667868\n",
      "47   test/004000/rgb/006834.png  0.374504\n",
      "4    test/004000/rgb/000441.png  0.289097\n",
      "251  test/004002/rgb/000000.png  0.284456\n",
      "..                          ...       ...\n",
      "271  test/004002/rgb/002976.png  0.000000\n",
      "270  test/004002/rgb/002826.png  0.000000\n",
      "269  test/004002/rgb/002683.png  0.000000\n",
      "268  test/004002/rgb/002533.png  0.000000\n",
      "1    test/004000/rgb/000000.png  0.000000\n",
      "\n",
      "[242 rows x 2 columns]\n"
     ]
    }
   ],
   "source": [
    "df_sorted = df.sort_values(by='iou', ascending=False)\n",
    "print(df_sorted)"
   ]
  }
 ],
 "metadata": {
  "kernelspec": {
   "display_name": "Python 3",
   "language": "python",
   "name": "python3"
  },
  "language_info": {
   "codemirror_mode": {
    "name": "ipython",
    "version": 3
   },
   "file_extension": ".py",
   "mimetype": "text/x-python",
   "name": "python",
   "nbconvert_exporter": "python",
   "pygments_lexer": "ipython3",
   "version": "3.10.7"
  }
 },
 "nbformat": 4,
 "nbformat_minor": 2
}
