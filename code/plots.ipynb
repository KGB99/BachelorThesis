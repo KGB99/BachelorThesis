{
 "cells": [
  {
   "cell_type": "code",
   "execution_count": 1,
   "metadata": {},
   "outputs": [],
   "source": [
    "import cv2\n",
    "import os \n",
    "import json \n",
    "import numpy as np\n",
    "import pandas as pd\n",
    "import ast\n",
    "import pycocotools.mask as maskUtils\n",
    "from matplotlib import pyplot as plt\n",
    "import argparse"
   ]
  },
  {
   "cell_type": "code",
   "execution_count": 2,
   "metadata": {},
   "outputs": [],
   "source": [
    "parent_path = '../results_eval/'\n",
    "yolact_path = parent_path + 'yolact'\n",
    "yolo_path = parent_path + 'yolo'"
   ]
  },
  {
   "cell_type": "code",
   "execution_count": 3,
   "metadata": {},
   "outputs": [
    {
     "name": "stdout",
     "output_type": "stream",
     "text": [
      "['pbr_augmented_30000', '.DS_Store', 'pbr_ref_all_no_aug_27000', 'ssd_amodal', 'unsupervised_base_33000', 'unsupervised_real_30000', 'pbr_new_30000']\n"
     ]
    }
   ],
   "source": [
    "yolact_res_list = os.listdir(yolact_path)\n",
    "yolo_res_list = os.listdir(yolo_path)\n",
    "print(yolact_res_list)"
   ]
  },
  {
   "cell_type": "code",
   "execution_count": 8,
   "metadata": {},
   "outputs": [
    {
     "name": "stdout",
     "output_type": "stream",
     "text": [
      "['AP@[0.50]: BBOX=0.4846\\n', 'AP@[0.55]: BBOX=0.4659\\n', 'AP@[0.60]: BBOX=0.4385\\n', 'AP@[0.65]: BBOX=0.41\\n', 'AP@[0.70]: BBOX=0.3626\\n', 'AP@[0.75]: BBOX=0.3055\\n', 'AP@[0.80]: BBOX=0.2491\\n', 'AP@[0.85]: BBOX=0.1344\\n', 'AP@[0.90]: BBOX=0.0293\\n', 'AP@[0.95]: BBOX=0.0015\\n', 'AP@[0.50]: MASK=0.3242\\n', 'AP@[0.55]: MASK=0.2508\\n', 'AP@[0.60]: MASK=0.2114\\n', 'AP@[0.65]: MASK=0.131\\n', 'AP@[0.70]: MASK=0.0935\\n', 'AP@[0.75]: MASK=0.0523\\n', 'AP@[0.80]: MASK=0.0394\\n', 'AP@[0.85]: MASK=0.0084\\n', 'AP@[0.90]: MASK=0.0004\\n', 'AP@[0.95]: MASK=0.0\\n', 'AP@[0.5:0.95]: BBOX=0.2882, MASK=0.1111\\n']\n",
      "['AP@[0.50]: BBOX=0.8143\\n', 'AP@[0.55]: BBOX=0.7678\\n', 'AP@[0.60]: BBOX=0.7167\\n', 'AP@[0.65]: BBOX=0.6516\\n', 'AP@[0.70]: BBOX=0.5478\\n', 'AP@[0.75]: BBOX=0.4221\\n', 'AP@[0.80]: BBOX=0.3051\\n', 'AP@[0.85]: BBOX=0.1808\\n', 'AP@[0.90]: BBOX=0.0568\\n', 'AP@[0.95]: BBOX=0.0074\\n', 'AP@[0.50]: MASK=0.5915\\n', 'AP@[0.55]: MASK=0.5045\\n', 'AP@[0.60]: MASK=0.4238\\n', 'AP@[0.65]: MASK=0.3475\\n', 'AP@[0.70]: MASK=0.2436\\n', 'AP@[0.75]: MASK=0.1475\\n', 'AP@[0.80]: MASK=0.0483\\n', 'AP@[0.85]: MASK=0.0129\\n', 'AP@[0.90]: MASK=0.0013\\n', 'AP@[0.95]: MASK=0.0\\n', 'AP@[0.5:0.95]: BBOX=0.447, MASK=0.2321\\n']\n",
      "['AP@[0.50]: BBOX=0.9193\\n', 'AP@[0.55]: BBOX=0.8883\\n', 'AP@[0.60]: BBOX=0.8496\\n', 'AP@[0.65]: BBOX=0.7974\\n', 'AP@[0.70]: BBOX=0.7184\\n', 'AP@[0.75]: BBOX=0.6231\\n', 'AP@[0.80]: BBOX=0.4925\\n', 'AP@[0.85]: BBOX=0.3424\\n', 'AP@[0.90]: BBOX=0.1616\\n', 'AP@[0.95]: BBOX=0.019\\n', 'AP@[0.50]: MASK=0.8246\\n', 'AP@[0.55]: MASK=0.7564\\n', 'AP@[0.60]: MASK=0.6665\\n', 'AP@[0.65]: MASK=0.5669\\n', 'AP@[0.70]: MASK=0.4794\\n', 'AP@[0.75]: MASK=0.3863\\n', 'AP@[0.80]: MASK=0.2492\\n', 'AP@[0.85]: MASK=0.0793\\n', 'AP@[0.90]: MASK=0.0053\\n', 'AP@[0.95]: MASK=0.0002\\n', 'AP@[0.5:0.95]: BBOX=0.5812, MASK=0.4014\\n']\n",
      "['AP@[0.50]: BBOX=0.5033\\n', 'AP@[0.55]: BBOX=0.4875\\n', 'AP@[0.60]: BBOX=0.4701\\n', 'AP@[0.65]: BBOX=0.4464\\n', 'AP@[0.70]: BBOX=0.3804\\n', 'AP@[0.75]: BBOX=0.3412\\n', 'AP@[0.80]: BBOX=0.2704\\n', 'AP@[0.85]: BBOX=0.1403\\n', 'AP@[0.90]: BBOX=0.0423\\n', 'AP@[0.95]: BBOX=0.0005\\n', 'AP@[0.50]: MASK=0.4202\\n', 'AP@[0.55]: MASK=0.3807\\n', 'AP@[0.60]: MASK=0.2896\\n', 'AP@[0.65]: MASK=0.2155\\n', 'AP@[0.70]: MASK=0.153\\n', 'AP@[0.75]: MASK=0.0835\\n', 'AP@[0.80]: MASK=0.0372\\n', 'AP@[0.85]: MASK=0.0133\\n', 'AP@[0.90]: MASK=0.0018\\n', 'AP@[0.95]: MASK=0.0\\n', 'AP@[0.5:0.95]: BBOX=0.3082, MASK=0.1595\\n']\n",
      "['AP@[0.50]: BBOX=0.6944\\n', 'AP@[0.55]: BBOX=0.6311\\n', 'AP@[0.60]: BBOX=0.5598\\n', 'AP@[0.65]: BBOX=0.4931\\n', 'AP@[0.70]: BBOX=0.3804\\n', 'AP@[0.75]: BBOX=0.273\\n', 'AP@[0.80]: BBOX=0.1855\\n', 'AP@[0.85]: BBOX=0.07\\n', 'AP@[0.90]: BBOX=0.0141\\n', 'AP@[0.95]: BBOX=0.0008\\n', 'AP@[0.50]: MASK=0.5776\\n', 'AP@[0.55]: MASK=0.5275\\n', 'AP@[0.60]: MASK=0.4809\\n', 'AP@[0.65]: MASK=0.4012\\n', 'AP@[0.70]: MASK=0.3136\\n', 'AP@[0.75]: MASK=0.1988\\n', 'AP@[0.80]: MASK=0.0785\\n', 'AP@[0.85]: MASK=0.0201\\n', 'AP@[0.90]: MASK=0.0033\\n', 'AP@[0.95]: MASK=0.0\\n', 'AP@[0.5:0.95]: BBOX=0.3302, MASK=0.2602\\n']\n",
      "['AP@[0.50]: BBOX=0.5663\\n', 'AP@[0.55]: BBOX=0.5402\\n', 'AP@[0.60]: BBOX=0.514\\n', 'AP@[0.65]: BBOX=0.4725\\n', 'AP@[0.70]: BBOX=0.4403\\n', 'AP@[0.75]: BBOX=0.3864\\n', 'AP@[0.80]: BBOX=0.3036\\n', 'AP@[0.85]: BBOX=0.2069\\n', 'AP@[0.90]: BBOX=0.0378\\n', 'AP@[0.95]: BBOX=0.0036\\n', 'AP@[0.50]: MASK=0.2817\\n', 'AP@[0.55]: MASK=0.22\\n', 'AP@[0.60]: MASK=0.1873\\n', 'AP@[0.65]: MASK=0.1269\\n', 'AP@[0.70]: MASK=0.0919\\n', 'AP@[0.75]: MASK=0.0234\\n', 'AP@[0.80]: MASK=0.011\\n', 'AP@[0.85]: MASK=0.0041\\n', 'AP@[0.90]: MASK=0.0\\n', 'AP@[0.95]: MASK=0.0\\n', 'AP@[0.5:0.95]: BBOX=0.3472, MASK=0.0946\\n']\n"
     ]
    }
   ],
   "source": [
    "for conf in yolact_res_list:\n",
    "    if conf == '.DS_Store':\n",
    "        continue\n",
    "    with open(yolact_path + '/' + conf + '/eval_output.txt', 'r') as f:\n",
    "        lines = f.readlines()\n",
    "    aplines = [x for x in lines if \"AP\" in x]\n",
    "    print(aplines)"
   ]
  }
 ],
 "metadata": {
  "kernelspec": {
   "display_name": "Python 3",
   "language": "python",
   "name": "python3"
  },
  "language_info": {
   "codemirror_mode": {
    "name": "ipython",
    "version": 3
   },
   "file_extension": ".py",
   "mimetype": "text/x-python",
   "name": "python",
   "nbconvert_exporter": "python",
   "pygments_lexer": "ipython3",
   "version": "3.10.7"
  }
 },
 "nbformat": 4,
 "nbformat_minor": 2
}
