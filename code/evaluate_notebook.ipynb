{
 "cells": [
  {
   "cell_type": "code",
   "execution_count": 10,
   "id": "37a8a6e9-6d3c-41c9-a15c-5862642e4771",
   "metadata": {},
   "outputs": [],
   "source": [
    "import cv2\n",
    "import os \n",
    "import json \n",
    "import numpy as np\n",
    "import pandas as pd\n",
    "import ast\n",
    "import pycocotools.mask as maskUtils\n",
    "from matplotlib import pyplot as plt\n",
    "import argparse"
   ]
  },
  {
   "cell_type": "code",
   "execution_count": 11,
   "id": "3653532d-3a32-4e99-9057-8795ff193b4e",
   "metadata": {},
   "outputs": [
    {
     "name": "stdout",
     "output_type": "stream",
     "text": [
      "['pred_exists', 'image_file', 'gt_powerdrill', 'mask_pixel_accuracy_powerdrill', 'bbox_iou_powerdrill', 'mask_iou_powerdrill', 'mask_dice_coefficient_powerdrill', 'result_img_file_powerdrill', 'gt_screwdriver', 'mask_pixel_accuracy_screwdriver', 'bbox_iou_screwdriver', 'mask_iou_screwdriver', 'mask_dice_coefficient_screwdriver', 'result_img_file_screwdriver', 'pred_powerdrill', 'pred_screwdriver']\n"
     ]
    }
   ],
   "source": [
    "df = pd.read_csv('/Users/kerim/dev/BachelorThesis/results_eval/quant_eval_trials_nogt/eval_values.csv')\n",
    "print(df.columns.tolist())"
   ]
  },
  {
   "cell_type": "code",
   "execution_count": 12,
   "id": "93b7120c-812f-419f-94c3-df45382017cb",
   "metadata": {},
   "outputs": [
    {
     "name": "stdout",
     "output_type": "stream",
     "text": [
      "[0.0, 0.05, 0.1, 0.15, 0.2, 0.25, 0.3, 0.35, 0.4, 0.45, 0.5, 0.55, 0.6, 0.65, 0.7, 0.75, 0.8, 0.85, 0.9, 0.95]\n"
     ]
    }
   ],
   "source": [
    "threshold_list = list(range(0, 100, 5))\n",
    "threshold_list = [x/100 for x in threshold_list]\n",
    "print(threshold_list)"
   ]
  },
  {
   "cell_type": "code",
   "execution_count": 19,
   "id": "056731a0",
   "metadata": {},
   "outputs": [
    {
     "name": "stdout",
     "output_type": "stream",
     "text": [
      "0.0\n"
     ]
    }
   ],
   "source": [
    "print(df['pred_powerdrill'].sum())"
   ]
  },
  {
   "cell_type": "code",
   "execution_count": 15,
   "id": "b157822d-2cb4-4fe2-9c2c-45ac73893c92",
   "metadata": {},
   "outputs": [
    {
     "name": "stdout",
     "output_type": "stream",
     "text": [
      "current threshold:0.0\n",
      "Empty DataFrame\n",
      "Columns: [pred_exists, image_file, gt_powerdrill, mask_pixel_accuracy_powerdrill, bbox_iou_powerdrill, mask_iou_powerdrill, mask_dice_coefficient_powerdrill, result_img_file_powerdrill, gt_screwdriver, mask_pixel_accuracy_screwdriver, bbox_iou_screwdriver, mask_iou_screwdriver, mask_dice_coefficient_screwdriver, result_img_file_screwdriver, pred_powerdrill, pred_screwdriver]\n",
      "Index: []\n"
     ]
    }
   ],
   "source": [
    "# first do everything for bboxes\n",
    "for iou_threshold in threshold_list[:1]:\n",
    "    print(\"current threshold:\" + str(iou_threshold))\n",
    "    #calculate confusion matrix for powerdrill bbox\n",
    "    powerdrill_TP_df = df[(df['gt_powerdrill'] == 1) & (df['pred_powerdrill'] == 1) & (df['bbox_iou_powerdrill'] >= iou_threshold)]\n",
    "    powerdrill_FP_df = df[((df['gt_powerdrill'] == 1) & (df['pred_powerdrill'] == 1) & (df['bbox_iou_powerdrill'] < iou_threshold)) \n",
    "               | ((df['pred_powerdrill'] == 1) & (df['gt_powerdrill'] == 0))]\n",
    "    #leave out TN for now\n",
    "    powerdrill_FN_df = df[((df['gt_powerdrill'] == 1) & (df['pred_powerdrill'] == 0)) \n",
    "               | ((df['gt_powerdrill'] == 1) & (df['pred_powerdrill'] == 1) & (df['bbox_iou_powerdrill'] < iou_threshold))]\n",
    "    \n",
    "    print(powerdrill_TP_df)\n",
    "\n",
    "                                                                      \n",
    "                                                                      \n",
    "                                                                      \n",
    "                                                                      \n",
    "                                                                      "
   ]
  }
 ],
 "metadata": {
  "kernelspec": {
   "display_name": "Python 3 (ipykernel)",
   "language": "python",
   "name": "python3"
  },
  "language_info": {
   "codemirror_mode": {
    "name": "ipython",
    "version": 3
   },
   "file_extension": ".py",
   "mimetype": "text/x-python",
   "name": "python",
   "nbconvert_exporter": "python",
   "pygments_lexer": "ipython3",
   "version": "3.10.7"
  }
 },
 "nbformat": 4,
 "nbformat_minor": 5
}
