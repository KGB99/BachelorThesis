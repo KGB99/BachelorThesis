{
 "cells": [
  {
   "cell_type": "code",
   "execution_count": 1,
   "id": "37a8a6e9-6d3c-41c9-a15c-5862642e4771",
   "metadata": {},
   "outputs": [],
   "source": [
    "import cv2\n",
    "import os \n",
    "import json \n",
    "import numpy as np\n",
    "import pandas as pd\n",
    "import ast\n",
    "import pycocotools.mask as maskUtils\n",
    "from matplotlib import pyplot as plt\n",
    "import argparse"
   ]
  },
  {
   "cell_type": "code",
   "execution_count": 3,
   "id": "3653532d-3a32-4e99-9057-8795ff193b4e",
   "metadata": {},
   "outputs": [
    {
     "name": "stdout",
     "output_type": "stream",
     "text": [
      "['id', 'image_id', 'category_id', 'image_file', 'prediction_found', 'bbox_pixel_accuracy', 'mask_pixel_accuracy', 'bbox_iou', 'mask_iou', 'bbox_dice_coefficient', 'mask_dice_coefficient', 'result_file']\n"
     ]
    }
   ],
   "source": [
    "df = pd.read_csv('/cluster/project/infk/cvg/heinj/students/kbirgi/BachelorThesis/results_eval/quantitative_evaluation/eval_values.csv')\n",
    "print(df.columns.tolist())"
   ]
  },
  {
   "cell_type": "code",
   "execution_count": 20,
   "id": "93b7120c-812f-419f-94c3-df45382017cb",
   "metadata": {},
   "outputs": [
    {
     "name": "stdout",
     "output_type": "stream",
     "text": [
      "[0.0, 0.05, 0.1, 0.15, 0.2, 0.25, 0.3, 0.35, 0.4, 0.45, 0.5, 0.55, 0.6, 0.65, 0.7, 0.75, 0.8, 0.85, 0.9, 0.95]\n"
     ]
    }
   ],
   "source": [
    "threshold_list = list(range(0, 100, 5))\n",
    "threshold_list = [x/100 for x in threshold_list]\n",
    "print(threshold_list)"
   ]
  },
  {
   "cell_type": "code",
   "execution_count": null,
   "id": "b157822d-2cb4-4fe2-9c2c-45ac73893c92",
   "metadata": {},
   "outputs": [],
   "source": [
    "# first do everything for bboxes\n",
    "for iou_threshold in threshold_list:\n",
    "    #calculate confusion matrix\n",
    "    TP_df = df[(df['gt_exists'] == 1) & (df['pred_exists'] == 1) & (df['bbox_iou'] >= iou_threshold)]\n",
    "    FP_df = df[((df['gt_exists'] == 1) & (df['pred_exists'] == 1) & (df['bbox_iou'] < iou_threshold)) | ((df['pred_exists'] == 1) & (df['gt_exists'] == 0)) | (df['pred_cat_id'] != df['gt_cat_id'])]\n",
    "    #leave out TN for now\n",
    "    FN_df = df[((df['gt_exists'] == 1) & (df['pred_exists'] == 0)) | ((df['gt_exists'] == 1) & (df['pred_exists'] == 1) & (df['bbox_iou'] < iou_threshold))]\n",
    "                                                                      \n",
    "                                                                      \n",
    "                                                                      \n",
    "                                                                      \n",
    "                                                                      "
   ]
  }
 ],
 "metadata": {
  "kernelspec": {
   "display_name": "Python 3 (ipykernel)",
   "language": "python",
   "name": "python3"
  },
  "language_info": {
   "codemirror_mode": {
    "name": "ipython",
    "version": 3
   },
   "file_extension": ".py",
   "mimetype": "text/x-python",
   "name": "python",
   "nbconvert_exporter": "python",
   "pygments_lexer": "ipython3",
   "version": "3.10.4"
  }
 },
 "nbformat": 4,
 "nbformat_minor": 5
}
