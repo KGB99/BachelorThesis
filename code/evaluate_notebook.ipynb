{
 "cells": [
  {
   "cell_type": "code",
   "execution_count": 1,
   "id": "37a8a6e9-6d3c-41c9-a15c-5862642e4771",
   "metadata": {},
   "outputs": [],
   "source": [
    "import cv2\n",
    "import os \n",
    "import json \n",
    "import numpy as np\n",
    "import pandas as pd\n",
    "import ast\n",
    "import pycocotools.mask as maskUtils\n",
    "from matplotlib import pyplot as plt\n",
    "import argparse"
   ]
  },
  {
   "cell_type": "code",
   "execution_count": 2,
   "id": "3653532d-3a32-4e99-9057-8795ff193b4e",
   "metadata": {},
   "outputs": [
    {
     "name": "stdout",
     "output_type": "stream",
     "text": [
      "['pred_exists', 'image_file', 'gt_powerdrill', 'pred_powerdrill', 'mask_pixel_accuracy_powerdrill', 'bbox_iou_powerdrill', 'mask_iou_powerdrill', 'mask_dice_coefficient_powerdrill', 'result_img_file_powerdrill', 'gt_screwdriver', 'pred_screwdriver', 'mask_pixel_accuracy_screwdriver', 'bbox_iou_screwdriver', 'mask_iou_screwdriver', 'mask_dice_coefficient_screwdriver', 'result_img_file_screwdriver']\n"
     ]
    }
   ],
   "source": [
    "df = pd.read_csv('/Users/kerim/dev/BachelorThesis/results_eval/quant_eval_trials_nogt/eval_values.csv')\n",
    "print(df.columns.tolist())"
   ]
  },
  {
   "cell_type": "code",
   "execution_count": 3,
   "id": "93b7120c-812f-419f-94c3-df45382017cb",
   "metadata": {},
   "outputs": [
    {
     "name": "stdout",
     "output_type": "stream",
     "text": [
      "[0.0, 0.05, 0.1, 0.15, 0.2, 0.25, 0.3, 0.35, 0.4, 0.45, 0.5, 0.55, 0.6, 0.65, 0.7, 0.75, 0.8, 0.85, 0.9, 0.95]\n"
     ]
    }
   ],
   "source": [
    "threshold_list = list(range(0, 100, 5))\n",
    "threshold_list = [x/100 for x in threshold_list]\n",
    "print(threshold_list)"
   ]
  },
  {
   "cell_type": "code",
   "execution_count": 4,
   "id": "056731a0",
   "metadata": {},
   "outputs": [
    {
     "name": "stdout",
     "output_type": "stream",
     "text": [
      "1986.0\n"
     ]
    }
   ],
   "source": [
    "print(df['pred_powerdrill'].sum())"
   ]
  },
  {
   "cell_type": "code",
   "execution_count": 29,
   "id": "b157822d-2cb4-4fe2-9c2c-45ac73893c92",
   "metadata": {},
   "outputs": [
    {
     "name": "stdout",
     "output_type": "stream",
     "text": [
      "Threshold: 0.00 | Recall: 0.87 | Precision: 1.00 | TP: 2806 | FN:  324 | FP:    0\n",
      "Threshold: 0.05 | Recall: 0.59 | Precision: 0.68 | TP: 1884 | FN: 1246 | FP:  922\n",
      "Threshold: 0.10 | Recall: 0.58 | Precision: 0.66 | TP: 1826 | FN: 1304 | FP:  980\n",
      "Threshold: 0.15 | Recall: 0.55 | Precision: 0.64 | TP: 1745 | FN: 1385 | FP: 1061\n",
      "Threshold: 0.20 | Recall: 0.53 | Precision: 0.61 | TP: 1673 | FN: 1457 | FP: 1133\n",
      "Threshold: 0.25 | Recall: 0.51 | Precision: 0.59 | TP: 1600 | FN: 1530 | FP: 1206\n",
      "Threshold: 0.30 | Recall: 0.48 | Precision: 0.56 | TP: 1523 | FN: 1607 | FP: 1283\n",
      "Threshold: 0.35 | Recall: 0.45 | Precision: 0.52 | TP: 1426 | FN: 1704 | FP: 1380\n",
      "Threshold: 0.40 | Recall: 0.42 | Precision: 0.49 | TP: 1325 | FN: 1805 | FP: 1481\n",
      "Threshold: 0.45 | Recall: 0.38 | Precision: 0.44 | TP: 1207 | FN: 1923 | FP: 1599\n",
      "Threshold: 0.50 | Recall: 0.35 | Precision: 0.41 | TP: 1103 | FN: 2027 | FP: 1703\n",
      "Threshold: 0.55 | Recall: 0.32 | Precision: 0.37 | TP: 1003 | FN: 2127 | FP: 1803\n",
      "Threshold: 0.60 | Recall: 0.28 | Precision: 0.32 | TP:  886 | FN: 2244 | FP: 1920\n",
      "Threshold: 0.65 | Recall: 0.23 | Precision: 0.27 | TP:  745 | FN: 2385 | FP: 2061\n",
      "Threshold: 0.70 | Recall: 0.18 | Precision: 0.21 | TP:  601 | FN: 2529 | FP: 2205\n",
      "Threshold: 0.75 | Recall: 0.13 | Precision: 0.15 | TP:  432 | FN: 2698 | FP: 2374\n",
      "Threshold: 0.80 | Recall: 0.08 | Precision: 0.09 | TP:  257 | FN: 2873 | FP: 2549\n",
      "Threshold: 0.85 | Recall: 0.03 | Precision: 0.04 | TP:  111 | FN: 3019 | FP: 2695\n",
      "Threshold: 0.90 | Recall: 0.01 | Precision: 0.01 | TP:   21 | FN: 3109 | FP: 2785\n",
      "Threshold: 0.95 | Recall: 0.00 | Precision: 0.00 | TP:    3 | FN: 3127 | FP: 2803\n"
     ]
    }
   ],
   "source": [
    "# first do everything for bboxes\n",
    "eval_dict = {}\n",
    "for iou_threshold in threshold_list:\n",
    "    #print(\"current threshold:\" + str(iou_threshold))\n",
    "    #calculate confusion matrix for powerdrill bbox\n",
    "\n",
    "    powerdrill_TP_df = df[(df['gt_powerdrill'] == 1) & (df['pred_powerdrill'] == 1) & (df['bbox_iou_powerdrill'] >= iou_threshold)]\n",
    "    powerdrill_FP_df = df[((df['gt_powerdrill'] == 1) & (df['pred_powerdrill'] == 1) & (df['bbox_iou_powerdrill'] < iou_threshold)) \n",
    "               | ((df['pred_powerdrill'] == 1) & (df['gt_powerdrill'] == 0))]\n",
    "    #leave out TN for now\n",
    "    powerdrill_FN_df = df[((df['gt_powerdrill'] == 1) & (df['pred_powerdrill'] == 0)) \n",
    "               | ((df['gt_powerdrill'] == 1) & (df['pred_powerdrill'] == 1) & (df['bbox_iou_powerdrill'] < iou_threshold))]\n",
    "    \n",
    "    screwdriver_TP_df = df[(df['gt_screwdriver'] == 1) & (df['pred_screwdriver'] == 1) & (df['bbox_iou_screwdriver'] >= iou_threshold)]\n",
    "    screwdriver_FP_df = df[((df['gt_screwdriver'] == 1) & (df['pred_screwdriver'] == 1) & (df['bbox_iou_screwdriver'] < iou_threshold)) \n",
    "               | ((df['pred_screwdriver'] == 1) & (df['gt_screwdriver'] == 0))]\n",
    "    screwdriver_FN_df = df[((df['gt_screwdriver'] == 1) & (df['pred_screwdriver'] == 0))\n",
    "               | ((df['gt_screwdriver'] == 1) & (df['pred_screwdriver'] == 1) & (df['bbox_iou_screwdriver'] < iou_threshold))]\n",
    "    \n",
    "    eval_dict[iou_threshold] = {}\n",
    "\n",
    "    eval_dict[iou_threshold]['powerdrill'] = {}\n",
    "    eval_dict[iou_threshold]['powerdrill']['TP'] = len(powerdrill_TP_df)\n",
    "    eval_dict[iou_threshold]['powerdrill']['FP'] = len(powerdrill_FP_df)\n",
    "    eval_dict[iou_threshold]['powerdrill']['FN'] = len(powerdrill_FN_df)\n",
    "    eval_dict[iou_threshold]['powerdrill']['precision'] = len(powerdrill_TP_df) / (len(powerdrill_TP_df) + len(powerdrill_FP_df))\n",
    "    eval_dict[iou_threshold]['powerdrill']['recall'] = len(powerdrill_TP_df) / (len(powerdrill_TP_df) + len(powerdrill_FN_df))\n",
    "\n",
    "    eval_dict[iou_threshold]['screwdriver'] = {}\n",
    "    eval_dict[iou_threshold]['screwdriver']['TP'] = len(screwdriver_TP_df)\n",
    "    eval_dict[iou_threshold]['screwdriver']['FP'] = len(screwdriver_FP_df)\n",
    "    eval_dict[iou_threshold]['screwdriver']['FN'] = len(screwdriver_FN_df)\n",
    "    eval_dict[iou_threshold]['screwdriver']['precision'] = len(screwdriver_TP_df) / (len(screwdriver_TP_df) + len(screwdriver_FP_df))\n",
    "    eval_dict[iou_threshold]['screwdriver']['recall'] = len(screwdriver_TP_df) / (len(screwdriver_TP_df) + len(screwdriver_FN_df))\n",
    "    \n",
    "    eval_dict[iou_threshold]['total'] = {}\n",
    "    eval_dict[iou_threshold]['total']['precision'] = (eval_dict[iou_threshold]['screwdriver']['precision'] + eval_dict[iou_threshold]['powerdrill']['precision']) / 2\n",
    "    eval_dict[iou_threshold]['total']['recall'] = (eval_dict[iou_threshold]['screwdriver']['recall'] + eval_dict[iou_threshold]['powerdrill']['recall']) / 2\n",
    "    print(f\"Threshold: {iou_threshold:.2f} | Recall: {round(eval_dict[iou_threshold]['total']['recall'], 2):.2f} | Precision: {round(eval_dict[iou_threshold]['total']['precision'], 2):.2f} \"\n",
    "          f\"| TP: {len(powerdrill_TP_df) + len(screwdriver_TP_df):4} | FN: {len(powerdrill_FN_df) + len(screwdriver_FN_df):4} | FP: {len(powerdrill_FP_df) + len(screwdriver_FP_df):4}\")\n",
    "\n",
    "\n",
    "\n",
    "                                                                      "
   ]
  },
  {
   "cell_type": "code",
   "execution_count": 19,
   "id": "3c6abec1",
   "metadata": {},
   "outputs": [
    {
     "name": "stdout",
     "output_type": "stream",
     "text": [
      "[0.8710771722845663, 0.5933950652403479, 0.5766169934350296, 0.5523819237357008, 0.5295449110493453, 0.5069657699212139, 0.482690920932186, 0.4509292395818734, 0.42044697120025676, 0.3841835231406767, 0.3512518218683407, 0.31704070762730874, 0.2782880473873101, 0.23159248060412713, 0.1824474809302248, 0.12958427404415224, 0.0767807360926284, 0.03360586772276056, 0.005493473652464997, 0.0007139457401237506]\n",
      "[1.0, 0.683746591997642, 0.6648484513546041, 0.6372958268857614, 0.6109350821604893, 0.5850385626212757, 0.5570610124530249, 0.5201102841844129, 0.4853744504212414, 0.44385270061159826, 0.40585562351091786, 0.365643651904797, 0.3204357330582369, 0.26596357428831086, 0.2082301721808759, 0.14742465551543732, 0.08725652739911086, 0.038327438410335764, 0.006002996585857097, 0.0007552870090634441]\n"
     ]
    }
   ],
   "source": [
    "precision_list = []\n",
    "recall_list = []\n",
    "for iou_threshold in eval_dict:\n",
    "    recall_list.append((eval_dict[iou_threshold]['screwdriver']['recall'] + eval_dict[iou_threshold]['powerdrill']['recall'])/2)\n",
    "    precision_list.append((eval_dict[iou_threshold]['powerdrill']['precision'] + eval_dict[iou_threshold]['screwdriver']['precision'])/2)\n",
    "print(recall_list)\n",
    "print(precision_list)  "
   ]
  },
  {
   "cell_type": "code",
   "execution_count": 33,
   "id": "4831f5d8",
   "metadata": {},
   "outputs": [
    {
     "data": {
      "image/png": "[encoded data removed]",
      "text/plain": [
       "<Figure size 640x480 with 1 Axes>"
      ]
     },
     "metadata": {},
     "output_type": "display_data"
    }
   ],
   "source": [
    "#fig, ax = plt.subplots()\n",
    "plt.plot(recall_list, precision_list,marker='o', linestyle='-')\n",
    "plt.title(\"Precision-Recall Curve\")\n",
    "plt.xlabel(\"Recall\")\n",
    "plt.ylabel(\"Precision\")\n",
    "plt.grid(True)\n",
    "plt.show()"
   ]
  }
 ],
 "metadata": {
  "kernelspec": {
   "display_name": "Python 3 (ipykernel)",
   "language": "python",
   "name": "python3"
  },
  "language_info": {
   "codemirror_mode": {
    "name": "ipython",
    "version": 3
   },
   "file_extension": ".py",
   "mimetype": "text/x-python",
   "name": "python",
   "nbconvert_exporter": "python",
   "pygments_lexer": "ipython3",
   "version": "3.10.4"
  }
 },
 "nbformat": 4,
 "nbformat_minor": 5
}
