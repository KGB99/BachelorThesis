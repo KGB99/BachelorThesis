{
 "cells": [
  {
   "cell_type": "code",
   "execution_count": 5,
   "metadata": {},
   "outputs": [],
   "source": [
    "import argparse\n",
    "import os\n",
    "from skimage import measure\n",
    "import skimage as ski\n",
    "import numpy as np\n",
    "import cv2 as cv"
   ]
  },
  {
   "cell_type": "code",
   "execution_count": 2,
   "metadata": {},
   "outputs": [],
   "source": [
    "image_path = \"/Users/kerim/dev/BachelorThesis/Data_sample/mvpsp/train/001000/rgb\"\n",
    "bitmask_path = \"/Users/kerim/dev/BachelorThesis/Data_sample/mvpsp/train/001000/mask\""
   ]
  },
  {
   "cell_type": "code",
   "execution_count": 3,
   "metadata": {},
   "outputs": [],
   "source": [
    "def filterPowerDrill(x):\n",
    "    powerdrill_id = \"000000\" # we are only interested in the powerdrill bitmask for now\n",
    "    check = x.split(\"_\")[1]\n",
    "    check = check.split(\".\")[0]\n",
    "    return (True if check == powerdrill_id else False)"
   ]
  },
  {
   "cell_type": "code",
   "execution_count": 6,
   "metadata": {},
   "outputs": [],
   "source": [
    "def create_mask_annotation(image_path):\n",
    "    image = cv.imread(image_path)\n",
    "    #contours = measure.find_contours(image, 0,5)\n",
    "    cv.imshow(\"display\", image)"
   ]
  },
  {
   "cell_type": "code",
   "execution_count": 8,
   "metadata": {},
   "outputs": [],
   "source": [
    "def create_dataset(image_path, bitmask_path, limit):\n",
    "    imageDirList = sorted(os.listdir(image_path))\n",
    "    bitmaskDirList = list(filter(filterPowerDrill, sorted(os.listdir(bitmask_path))))\n",
    "    annotations = []\n",
    "    for i in bitmaskDirList[:1]:\n",
    "        image_path = bitmask_path + \"/\" + i\n",
    "        image = cv.imread(image_path)\n",
    "        #contours = measure.find_contours(image, 0,5)\n",
    "        cv.imshow(\"display\", image)\n",
    "        "
   ]
  }
 ],
 "metadata": {
  "kernelspec": {
   "display_name": "Python 3",
   "language": "python",
   "name": "python3"
  },
  "language_info": {
   "codemirror_mode": {
    "name": "ipython",
    "version": 3
   },
   "file_extension": ".py",
   "mimetype": "text/x-python",
   "name": "python",
   "nbconvert_exporter": "python",
   "pygments_lexer": "ipython3",
   "version": "3.10.7"
  }
 },
 "nbformat": 4,
 "nbformat_minor": 2
}
